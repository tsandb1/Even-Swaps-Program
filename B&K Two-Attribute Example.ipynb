{
 "cells": [
  {
   "cell_type": "markdown",
   "id": "92ee4727",
   "metadata": {},
   "source": [
    "# Bhattacharjya and Kephart (2014) Two-attribute example"
   ]
  },
  {
   "cell_type": "code",
   "execution_count": 1,
   "id": "76416546",
   "metadata": {},
   "outputs": [],
   "source": [
    "import numpy as np\n",
    "import matplotlib.pyplot as plt\n",
    "import scipy.stats as ss"
   ]
  },
  {
   "cell_type": "markdown",
   "id": "524edc23",
   "metadata": {},
   "source": [
    "## Two-attribute Example"
   ]
  },
  {
   "cell_type": "markdown",
   "id": "bce95d09",
   "metadata": {},
   "source": [
    "Suppose $M = 2$ and that the DM’s marginal value functions are linear and normalized to between 0 and 1. As a reference, suppose that the DM’s trade-offs are accurately captured by weights $\\omega_1 = 0.5$ and $\\omega_2 = 0.5$.\n",
    "\n",
    "Let the system believe that $\\omega_1 \\approx Uniform(u_{min},u_{max})$."
   ]
  },
  {
   "cell_type": "markdown",
   "id": "f157ecea",
   "metadata": {},
   "source": [
    "Alternative 1 $a_1$ leads to attributes $x_1 (a_1)=x_1^1$ and $x_2 (a_1)=x_2^1$. \n",
    "\n",
    "The value of alternative 1 is $v(a_1 )= \\omega_1 x_1^1 +(1- \\omega_1 ) x_2^1 = x_2^1 + (x_1^1 - x_2^1)\\omega_1$"
   ]
  },
  {
   "cell_type": "markdown",
   "id": "d274974d",
   "metadata": {},
   "source": [
    "Alternative 2 $a_2$ leads to attributes $x_1 (a_2)=x_1^2$ and $x_2 (a_2)=x_2^2$.\n",
    "\n",
    "The value of alternative 2 is $v(a_2 )= \\omega_1 x_1^2 +(1- \\omega_1 ) x_2^2 = x_2^2 + (x_1^2 - x_2^2)\\omega_1$"
   ]
  },
  {
   "cell_type": "markdown",
   "id": "3b299492",
   "metadata": {},
   "source": [
    "If $a_1$ dominates $a_2$, $v(a_1) > v(a_2)$ and we have\n",
    "\n",
    "$$\n",
    "x_2^1 + (x_1^1 - x_2^1)\\omega_1 > x_2^2 + (x_1^2 - x_2^2)\\omega_1\n",
    "$$\n",
    "\n",
    "$$\n",
    "x_2^1 - x_2^2 > (x_1^2 - x_2^2 - x_1^1 + x_2^1) \\omega_1\n",
    "$$\n",
    "\n",
    "If $x_1^2 - x_2^2 - x_1^1 + x_2^1 > 0$\n",
    "\n",
    "$$\n",
    "\\omega_1 < \\frac{x_2^1 - x_2^2}{x_1^2 - x_2^2 - x_1^1 + x_2^1}\n",
    "$$\n",
    "\n",
    "and if $x_1^2 - x_2^2 - x_1^1 + x_2^1 < 0$\n",
    "\n",
    "$$\n",
    "\\omega_1 < 1 - \\frac{x_2^1 - x_2^2}{x_1^2 - x_2^2 - x_1^1 + x_2^1}\n",
    "$$"
   ]
  },
  {
   "cell_type": "markdown",
   "id": "23393f20",
   "metadata": {},
   "source": [
    "Then, if alternative $a_1$ leads to attributes $x_1 (a_1)=x_1^1$ and $x_2 (a_1)=x_2^1$, the probability that alternative $a_1$ dominates $a_2$ is "
   ]
  },
  {
   "cell_type": "markdown",
   "id": "f2dc0680",
   "metadata": {},
   "source": [
    "$$\n",
    "\\omega_i <\n",
    "\\begin{cases}\n",
    "    1, & \\text{if $x_1 < x_1^1$ and $x_2 < x_2^1$}\\\\\n",
    "    \\frac{x_2^1 - x_2^2}{x_1^2 - x_2^2 - x_1^1 + x_2^1}, & \\text{ if $x_1^2 - x_2^2 - x_1^1 + x_2^1 > 0$}\\\\\n",
    "    1 - \\frac{x_2^1 - x_2^2}{x_1^2 - x_2^2 - x_1^1 + x_2^1}, & \\text{ if $x_1^2 - x_2^2 - x_1^1 + x_2^1 < 0$}\\\\\n",
    "    0, & \\text{if $x_1 > x_1^1$ and $x_2 > x_2^1$}\\\\\n",
    "\\end{cases}\n",
    "$$"
   ]
  },
  {
   "cell_type": "markdown",
   "id": "825bdd04",
   "metadata": {},
   "source": [
    "If the distribution over $\\omega_1$ is $U(u_{min}, u_{max})$, $\\omega_1$ can take any value on $[0, 1]$ but the \n",
    "probablity $p_{a_1 a_2}$, i.e., the probability that $a_1$ dominates $a_2$, is constrained by $U(u_{min}, u_{max})$.\n",
    "\n",
    "If $U(u_{min} = 0$ and $U(u_{max} = 1$, $p_{a_1 a_2} = \\omega_1$. However, the general case for any $[u_{min}, u_{max}]$ is\n",
    "\n",
    "$$\n",
    "F(x) <\n",
    "\\begin{cases}\n",
    "    0, & \\text{if $x < u_{min}$}\\\\\n",
    "    \\frac{x - u_{min}}{u_{max} - u_{min}}, & \\text{if $u_{min} \\leq x \\leq u_{max}$}\\\\\n",
    "    1, & \\text{if $x > u_{max}$}\\\\\n",
    "\\end{cases}\n",
    "$$\n",
    "\n",
    "For any quantile $x$, the inverse function is given by\n",
    "\n",
    "$$\n",
    "p = \\frac{x - u_{min}}{u_{max} - u_{min}}\n",
    "$$\n",
    "\n",
    "and so for any $\\omega_1$, the inverse function is given by\n",
    "\n",
    "$$\n",
    "p = \\frac{\\omega_1 - u_{min}}{u_{max} - u_{min}}\n",
    "$$"
   ]
  },
  {
   "cell_type": "code",
   "execution_count": 2,
   "id": "b1ab3914",
   "metadata": {
    "scrolled": false
   },
   "outputs": [],
   "source": [
    "def prob_dom (x11, x12, n_steps, probLB, probUB):\n",
    "    \"\"\"\n",
    "    Function to calculate probable dominance for the two-attribute example from Bhattacharjya and Kephart (2014)\n",
    "    \n",
    "    Parameters\n",
    "    __________\n",
    "    x11: x-coordinate for alternative 1 (attribute x1)\n",
    "    x12: y-coordinate for alternative 1 (attribute x2)\n",
    "    n_steps: number of steps for x1 and x2 for alternative 2\n",
    "    probLB: lower bound for uniform distribution\n",
    "    probUB: upper bound for uniform distribution\n",
    "    \n",
    "    Returns\n",
    "    _______\n",
    "    None\n",
    "    \"\"\"\n",
    "    \n",
    "    n_min = 1 / n_steps / 2\n",
    "    n_max = 1 - n_min\n",
    "    \n",
    "    x21 = np.linspace(n_min, n_max, n_steps)\n",
    "    x22 = np.linspace(n_min, n_max, n_steps)\n",
    "\n",
    "    p_x1x2 = []\n",
    "\n",
    "    for j in reversed(x22):\n",
    "        p_x1 = []\n",
    "        for i in x21:\n",
    "            x_num = x12 - j\n",
    "            x_denom = i - j - x11 + x12\n",
    "            if x_denom > 0:\n",
    "                prob = ss.uniform.cdf(x = ((x_num) / (x_denom)), loc = probLB, scale = probUB - probLB)\n",
    "                p_x1.append(prob)\n",
    "            elif x_denom < 0:\n",
    "                prob = 1 - ss.uniform.cdf(x = ((x_num) / (x_denom)), loc = probLB, scale = probUB - probLB)\n",
    "                p_x1.append(prob)\n",
    "            elif x_denom == 0:\n",
    "                if x_num > 0:\n",
    "                    p_x1.append(1)\n",
    "                elif x_num < 0:\n",
    "                    p_x1.append(0)\n",
    "        p_x1x2.append(p_x1)\n",
    "\n",
    "    # getting the original colormap using cm.get_cmap() function\n",
    "    orig_map = plt.cm.get_cmap('bwr')\n",
    "\n",
    "    # reversing the original colormap using reversed() function\n",
    "    reversed_map = orig_map.reversed()\n",
    "\n",
    "    plt.figure(figsize = (12, 7))\n",
    "\n",
    "    plt.xlabel('Attribute $x_1$')\n",
    "    plt.ylabel('Attribute $x_2$')\n",
    "\n",
    "    # Add lines\n",
    "    x1 = [0, 1]\n",
    "    y1 = [x12, x12]\n",
    "    plt.plot(x1, y1, \"-\", color = \"black\", linewidth = 1, alpha = 0.3)\n",
    "\n",
    "    x2 = [x11, x11]\n",
    "    y2 = [0., 1.]\n",
    "    plt.plot(x2, y2, \"-\", color = \"black\", linewidth = 1, alpha = 0.3)\n",
    "\n",
    "    diag = x11 + x12\n",
    "    x = [0, diag]\n",
    "    y = [diag, 0]\n",
    "    plt.plot(x, y, \"--\", color = \"black\", linewidth = 1)\n",
    "\n",
    "    plt.scatter(x11, x12, s = 100, facecolors = ['black'], edgecolors = ['black'], norm = False)\n",
    "\n",
    "    plt.imshow(p_x1x2, cmap = reversed_map, extent = [0, 1, 0, 1])\n",
    "    plt.show()"
   ]
  },
  {
   "cell_type": "code",
   "execution_count": 3,
   "id": "7106c8cd",
   "metadata": {},
   "outputs": [
    {
     "name": "stdout",
     "output_type": "stream",
     "text": [
      "\n",
      "What would you like the value for x₁(a₁) to be? 0.2\n",
      "\n",
      "What would you like the value for x₂(a₁) to be? 0.6\n",
      "\n",
      "How many steps would you like to use? 100\n",
      "\n",
      "What would you like the min value for u to be? 0\n",
      "\n",
      "What would you like the max value for u to be? 1\n",
      "\n"
     ]
    },
    {
     "data": {
      "image/png": "[encoded data removed]",
      "text/plain": [
       "<Figure size 864x504 with 1 Axes>"
      ]
     },
     "metadata": {
      "needs_background": "light"
     },
     "output_type": "display_data"
    }
   ],
   "source": [
    "def prob_dom_example ():\n",
    "    \"\"\"\n",
    "    Function to input different values for x1_a1, x2_a1, n_steps, u_min, and u_max \n",
    "    for the two-attribute example with a uniform distribution\n",
    "    \n",
    "    Parameters\n",
    "    __________\n",
    "    None\n",
    "    \n",
    "    Returns\n",
    "    _______\n",
    "    None\n",
    "    \"\"\"\n",
    "    \n",
    "    # Distribution over w_1 is U(u_min, u_max). w1 can take any value on [0, 1] but the \n",
    "    # probablity p(w1) is constrained by U(u_min, u_max)\n",
    "\n",
    "    x1_a1 = float(input('\\nWhat would you like the value for x\\u2081(a\\u2081) to be? '))\n",
    "    x2_a1 = float(input('\\nWhat would you like the value for x\\u2082(a\\u2081) to be? '))\n",
    "    n_steps = int(input('\\nHow many steps would you like to use? '))\n",
    "    u_min = float(input('\\nWhat would you like the min value for u to be? '))\n",
    "    u_max = float(input('\\nWhat would you like the max value for u to be? '))\n",
    "    print()\n",
    "\n",
    "    prob_dom(x1_a1, x2_a1, n_steps, u_min, u_max)\n",
    "        \n",
    "prob_dom_example()"
   ]
  }
 ],
 "metadata": {
  "kernelspec": {
   "display_name": "Python 3",
   "language": "python",
   "name": "python3"
  },
  "language_info": {
   "codemirror_mode": {
    "name": "ipython",
    "version": 3
   },
   "file_extension": ".py",
   "mimetype": "text/x-python",
   "name": "python",
   "nbconvert_exporter": "python",
   "pygments_lexer": "ipython3",
   "version": "3.9.7"
  }
 },
 "nbformat": 4,
 "nbformat_minor": 5
}
